{
 "cells": [
  {
   "cell_type": "code",
   "execution_count": 57,
   "metadata": {},
   "outputs": [],
   "source": [
    "from Parallelizer import make_parallel\n",
    "from common import  Common\n",
    "import re\n",
    "import pandas as pd\n",
    "import time\n",
    "from urllib.parse import unquote\n",
    "from utils import *\n",
    "import json\n",
    "from math import ceil\n"
   ]
  },
  {
   "cell_type": "markdown",
   "metadata": {},
   "source": [
    "# TIKTOK"
   ]
  },
  {
   "cell_type": "code",
   "execution_count": 58,
   "metadata": {},
   "outputs": [],
   "source": [
    "import requests\n",
    "from bs4 import BeautifulSoup\n",
    "from time import sleep\n",
    "count = 0\n",
    "\n",
    "@make_parallel\n",
    "def request_tiktok(url):\n",
    "    payload = {}\n",
    "    headers = {\n",
    "        'authority': 'oec-api.tiktokv.com',\n",
    "        'accept': 'text/html,application/xhtml+xml,application/xml;q=0.9,image/webp,image/apng,*/*;q=0.8,application/signed-exchange;v=b3;q=0.7',\n",
    "        'accept-language': 'en-GB,en;q=0.9,en-US;q=0.8',\n",
    "        'cache-control': 'max-age=0',\n",
    "        'sec-ch-ua': '\"Microsoft Edge\";v=\"117\", \"Not;A=Brand\";v=\"8\", \"Chromium\";v=\"117\"',\n",
    "        'sec-ch-ua-mobile': '?0',\n",
    "        'sec-ch-ua-platform': '\"Windows\"',\n",
    "        'sec-fetch-dest': 'document',\n",
    "        'sec-fetch-mode': 'navigate',\n",
    "        'sec-fetch-site': 'none',\n",
    "        'sec-fetch-user': '?1',\n",
    "        'upgrade-insecure-requests': '1',\n",
    "        'user-agent': 'Mozilla/5.0 (Windows NT 10.0; Win64; x64) AppleWebKit/537.36 (KHTML, like Gecko) Chrome/117.0.0.0 Safari/537.36 Edg/117.0.2045.47'\n",
    "    }\n",
    "    try_time = 0\n",
    "    json_obj = None\n",
    "    while not json_obj:\n",
    "        \n",
    "        # url = f\"https://oec-api.tiktokv.com/view/product/{product_id}\"\n",
    "        response = requests.request(\"GET\", url, headers=headers, data=payload)\n",
    "        try_time += 1\n",
    "        print(f\"{try_time}: {url}\")\n",
    "        try:\n",
    "            soup = BeautifulSoup(response.text, 'html.parser')\n",
    "\n",
    "            # get content of script id = RENDER_DATA\n",
    "            script = soup.find('script', id='RENDER_DATA')\n",
    "            # get content of script\n",
    "            script_content = script.contents[0]\n",
    "            # get data from script\n",
    "            # print(response.text)\n",
    "            json_obj = json.loads(unquote(script_content))\n",
    "            # print(json_obj)\n",
    "        except Exception as e:\n",
    "            print(e)\n",
    "            json_obj = None\n",
    "            print(f\"fail: {url} {response.text}\")\n",
    "            sleep(2)\n",
    "    return json_obj"
   ]
  },
  {
   "cell_type": "code",
   "execution_count": 59,
   "metadata": {},
   "outputs": [],
   "source": [
    "@make_parallel\n",
    "def transform(response, results=[]):\n",
    "\n",
    "    product_transformed = {\n",
    "        \"product_id\": \"failed\",\n",
    "        \"name\": \"failed\",\n",
    "        \"link\": \"failed\",\n",
    "        \"type\": \"Sp lẻ\",\n",
    "        \"min_price\": \"failed\",\n",
    "        \"max_price\": \"failed\",\n",
    "        \"sold_count\": \"failed\",\n",
    "        \"min_original_price\": \"failed\",\n",
    "        \"max_original_price\": \"failed\",\n",
    "    }\n",
    "\n",
    "    for i in range(5):\n",
    "        product_transformed[f\"image_{i+1}\"] = \"failed\"\n",
    "\n",
    "    try:\n",
    "        product_base = response['2']['initialData']['productInfo']['product_base']\n",
    "        mapping_product_base = {\n",
    "            \"real_price\": [\"price\", \"real_price\"],\n",
    "            \"original_price\": [\"price\", \"original_price\"],\n",
    "            \"images\": [\"images\"],\n",
    "            \"sold_count\": [\"sold_count\"],\n",
    "            \"title\": [\"title\"]\n",
    "        }\n",
    "        transformed_product_base = Common.mapping_data(\n",
    "            product_base, mapping_product_base)\n",
    "        product_id = response['2']['initialData']['productInfo']['product_id']\n",
    "        print(product_id)\n",
    "        name = transformed_product_base['title']\n",
    "        price_pattern = re.compile(r'(\\d+\\.?\\d*)')\n",
    "        try:\n",
    "            is_flash_sale = bool(\n",
    "                response['2']['initialData']['productInfo'].get(\"flash_sale\", False)\n",
    "            )\n",
    "            prices = price_pattern.findall(transformed_product_base['real_price'].replace('.', ''))\n",
    "            if len(prices) == 2:\n",
    "                min_price = int(prices[0].replace('.', ''))\n",
    "                max_price = int(prices[1].replace('.', ''))\n",
    "            else:\n",
    "                min_price = None\n",
    "                max_price = int(prices[0].replace('.', ''))\n",
    "            original_price = price_pattern.findall(\n",
    "                transformed_product_base['original_price'])\n",
    "            if len(original_price) == 2:\n",
    "                min_original_price = int(original_price[0].replace('.', ''))\n",
    "                max_original_price = int(original_price[1].replace('.', ''))\n",
    "            else:\n",
    "                min_original_price = None\n",
    "                if len(original_price) == 0:\n",
    "                    max_original_price = None\n",
    "                else:\n",
    "                    max_original_price = int(original_price[0].replace('.', ''))\n",
    "        except Exception as e:\n",
    "            print(\"not found price\")\n",
    "            min_price = None\n",
    "            max_price = None\n",
    "            min_original_price = None\n",
    "            max_original_price = None\n",
    "\n",
    "        sold_count = transformed_product_base['sold_count']\n",
    "\n",
    "        images = [None]*5\n",
    "        for i,image in enumerate(transformed_product_base[\"images\"][:5]):\n",
    "            images[i] = f'=image(\"{image[\"thumb_url_list\"][0]}\")'\n",
    "\n",
    "        product_transformed = {\n",
    "            \"product_id\": product_id,\n",
    "            \"name\": name,\n",
    "            \"link\": f\"https://oec-api.tiktokv.com/view/product/{product_id}\",\n",
    "            \"type\": \"Sp lẻ\",\n",
    "            \"min_price\": min_price,\n",
    "            \"max_price\": max_price,\n",
    "            \"sold_count\": sold_count,\n",
    "            \"min_original_price\": min_original_price,\n",
    "            \"max_original_price\": max_original_price,\n",
    "        }\n",
    "        \n",
    "        if is_flash_sale:\n",
    "            if min_original_price is not None:\n",
    "                product_transformed[\"min_price\"] = min_original_price\n",
    "            if max_original_price is not None:\n",
    "                product_transformed[\"max_price\"] = max_original_price\n",
    "\n",
    "        for i in range(5):\n",
    "            product_transformed[f\"image_{i+1}\"] = images[i]\n",
    "\n",
    "    except Exception as e:\n",
    "        print(f\"fail: {e}\")\n",
    "        if product_id:=response['_location'].split('/')[-1]:\n",
    "            product_transformed[\"product_id\"] = product_id\n",
    "            product_transformed['link'] =  f\"https://oec-api.tiktokv.com/view/product/{product_id}\"\n",
    "            print(f\"failed {product_id}\")\n",
    "\n",
    "    results.append(product_transformed)"
   ]
  },
  {
   "cell_type": "code",
   "execution_count": 60,
   "metadata": {},
   "outputs": [],
   "source": [
    "links =['https://oec-api.tiktokv.com/view/product/1729443992011574237',\n",
    "'https://oec-api.tiktokv.com/view/product/1729444867137375197',\n",
    "'https://oec-api.tiktokv.com/view/product/1729445344721603549',\n",
    "'https://oec-api.tiktokv.com/view/product/1729445996211178461',\n",
    "'https://oec-api.tiktokv.com/view/product/1729446330084068317',\n",
    "'https://oec-api.tiktokv.com/view/product/1729446700188535773',\n",
    "'https://oec-api.tiktokv.com/view/product/1729446728967359453',\n",
    "'https://oec-api.tiktokv.com/view/product/1729446754308557789',\n",
    "'https://oec-api.tiktokv.com/view/product/1729447195035929565',\n",
    "'https://oec-api.tiktokv.com/view/product/1729447205246766045',\n",
    "'https://oec-api.tiktokv.com/view/product/1729447485106326493',\n",
    "'https://oec-api.tiktokv.com/view/product/1729447489862011869',\n",
    "'https://oec-api.tiktokv.com/view/product/1729447522836974557',\n",
    "'https://oec-api.tiktokv.com/view/product/1729447609082743773',\n",
    "'https://oec-api.tiktokv.com/view/product/1729447612949433309',\n",
    "'https://oec-api.tiktokv.com/view/product/1729447615382588381',\n",
    "'https://oec-api.tiktokv.com/view/product/1729447618324564957',\n",
    "'https://oec-api.tiktokv.com/view/product/1729447619223522269',\n",
    "'https://oec-api.tiktokv.com/view/product/1729447619682864093',\n",
    "'https://oec-api.tiktokv.com/view/product/1729447621629545437',\n",
    "'https://oec-api.tiktokv.com/view/product/1729447628823759837',\n",
    "'https://oec-api.tiktokv.com/view/product/1729606944439897053',\n",
    "'https://oec-api.tiktokv.com/view/product/1729610111159733213',\n",
    "'https://oec-api.tiktokv.com/view/product/1729612334436355037',\n",
    "'https://oec-api.tiktokv.com/view/product/1729633502355557341',\n",
    "'https://oec-api.tiktokv.com/view/product/1729640641502743517',\n",
    "'https://oec-api.tiktokv.com/view/product/1729651019080371165',\n",
    "'https://oec-api.tiktokv.com/view/product/1729651063887465437',\n",
    "'https://oec-api.tiktokv.com/view/product/1729651081008024541',\n",
    "'https://oec-api.tiktokv.com/view/product/1729651097827249117',\n",
    "'https://oec-api.tiktokv.com/view/product/1729651204056320989',\n",
    "'https://oec-api.tiktokv.com/view/product/1729651212604312541',\n",
    "'https://oec-api.tiktokv.com/view/product/1729651238576098269',\n",
    "'https://oec-api.tiktokv.com/view/product/1729651650935819229',\n",
    "'https://oec-api.tiktokv.com/view/product/1729651656980859869',\n",
    "'https://oec-api.tiktokv.com/view/product/1729651676151516125',\n",
    "'https://oec-api.tiktokv.com/view/product/1729651851473357789',\n",
    "'https://oec-api.tiktokv.com/view/product/1729651862815083485',\n",
    "'https://oec-api.tiktokv.com/view/product/1729651863008414685',\n",
    "'https://oec-api.tiktokv.com/view/product/1729652334448905181',\n",
    "'https://oec-api.tiktokv.com/view/product/1729652352965512157',\n",
    "'https://oec-api.tiktokv.com/view/product/1729652358494587869',\n",
    "'https://oec-api.tiktokv.com/view/product/1729652366910786525',\n",
    "'https://oec-api.tiktokv.com/view/product/1729652370994990045',\n",
    "'https://oec-api.tiktokv.com/view/product/1729652384317606877',\n",
    "'https://oec-api.tiktokv.com/view/product/1729654954614295517',\n",
    "'https://oec-api.tiktokv.com/view/product/1729654958393428957',\n",
    "'https://oec-api.tiktokv.com/view/product/1729655090747247581',\n",
    "'https://oec-api.tiktokv.com/view/product/1729655688804600797',\n",
    "'https://oec-api.tiktokv.com/view/product/1729655692674763741',\n",
    "'https://oec-api.tiktokv.com/view/product/1729655735442770909',\n",
    "'https://oec-api.tiktokv.com/view/product/1729655738373802973',\n",
    "'https://oec-api.tiktokv.com/view/product/1729655751811238877',\n",
    "'https://oec-api.tiktokv.com/view/product/1729656551694830557',\n",
    "'https://oec-api.tiktokv.com/view/product/1729656557905611741',\n",
    "'https://oec-api.tiktokv.com/view/product/1729662230486289373',\n",
    "'https://oec-api.tiktokv.com/view/product/1729662256450014173',\n",
    "'https://oec-api.tiktokv.com/view/product/1729664711043156957',\n",
    "'https://oec-api.tiktokv.com/view/product/1729664718308936669',\n",
    "'https://oec-api.tiktokv.com/view/product/1729664739616459741',\n",
    "'https://oec-api.tiktokv.com/view/product/1729664744538541021',\n",
    "'https://oec-api.tiktokv.com/view/product/1729669566290365405',\n",
    "'https://oec-api.tiktokv.com/view/product/1729670064714451933',\n",
    "'https://oec-api.tiktokv.com/view/product/1729679819777346525',\n",
    "'https://oec-api.tiktokv.com/view/product/1729679885311642589',\n",
    "'https://oec-api.tiktokv.com/view/product/1729679946110372829',\n",
    "'https://oec-api.tiktokv.com/view/product/1729679951332084701',\n",
    "'https://oec-api.tiktokv.com/view/product/1729680070248270813',\n",
    "'https://oec-api.tiktokv.com/view/product/1729680071138577373',\n",
    "'https://oec-api.tiktokv.com/view/product/1729680862038232029',\n",
    "'https://oec-api.tiktokv.com/view/product/1729680876379081693',\n",
    "'https://oec-api.tiktokv.com/view/product/1729680900283206621',\n",
    "'https://oec-api.tiktokv.com/view/product/1729680912532999133',\n",
    "'https://oec-api.tiktokv.com/view/product/1729681849227578333',\n",
    "'https://oec-api.tiktokv.com/view/product/1729681869064276957',\n",
    "'https://oec-api.tiktokv.com/view/product/1729681905640573917',\n",
    "'https://oec-api.tiktokv.com/view/product/1729681941929757661',\n",
    "'https://oec-api.tiktokv.com/view/product/1729682752813763549',\n",
    "'https://oec-api.tiktokv.com/view/product/1729683574522612701',\n",
    "'https://oec-api.tiktokv.com/view/product/1729683725759122397',\n",
    "'https://oec-api.tiktokv.com/view/product/1729683731610962909',\n",
    "'https://oec-api.tiktokv.com/view/product/1729683745918520285',\n",
    "'https://oec-api.tiktokv.com/view/product/1729683771287243741',\n",
    "'https://oec-api.tiktokv.com/view/product/1729694164930759645',\n",
    "'https://oec-api.tiktokv.com/view/product/1729694755435416541',\n",
    "'https://oec-api.tiktokv.com/view/product/1729694855954992093',]"
   ]
  },
  {
   "cell_type": "code",
   "execution_count": 61,
   "metadata": {},
   "outputs": [
    {
     "name": "stdout",
     "output_type": "stream",
     "text": [
      "1: https://oec-api.tiktokv.com/view/product/1729444867137375197\n",
      "1: https://oec-api.tiktokv.com/view/product/1729445996211178461\n",
      "1: https://oec-api.tiktokv.com/view/product/1729447615382588381\n",
      "1: https://oec-api.tiktokv.com/view/product/17294453447216035491: https://oec-api.tiktokv.com/view/product/1729446330084068317\n",
      "\n",
      "1: https://oec-api.tiktokv.com/view/product/1729443992011574237\n",
      "1: https://oec-api.tiktokv.com/view/product/1729447489862011869\n",
      "1: https://oec-api.tiktokv.com/view/product/1729446700188535773\n",
      "1: https://oec-api.tiktokv.com/view/product/1729446728967359453\n",
      "1: https://oec-api.tiktokv.com/view/product/1729446754308557789\n",
      "1: https://oec-api.tiktokv.com/view/product/1729447522836974557\n",
      "1: https://oec-api.tiktokv.com/view/product/1729447205246766045\n",
      "1: https://oec-api.tiktokv.com/view/product/1729447609082743773\n",
      "1: https://oec-api.tiktokv.com/view/product/1729447195035929565\n",
      "1: https://oec-api.tiktokv.com/view/product/1729447612949433309\n",
      "1: https://oec-api.tiktokv.com/view/product/1729447618324564957\n",
      "1: https://oec-api.tiktokv.com/view/product/1729447619682864093\n",
      "1: https://oec-api.tiktokv.com/view/product/1729447485106326493\n",
      "1: https://oec-api.tiktokv.com/view/product/1729447628823759837\n",
      "1: https://oec-api.tiktokv.com/view/product/17296123344363550371: https://oec-api.tiktokv.com/view/product/1729447619223522269\n",
      "\n",
      "1: https://oec-api.tiktokv.com/view/product/1729447621629545437\n",
      "1: https://oec-api.tiktokv.com/view/product/1729651097827249117\n",
      "1: https://oec-api.tiktokv.com/view/product/1729651081008024541\n",
      "1: https://oec-api.tiktokv.com/view/product/1729610111159733213\n",
      "1: https://oec-api.tiktokv.com/view/product/1729633502355557341\n",
      "1: https://oec-api.tiktokv.com/view/product/1729651063887465437\n",
      "1: https://oec-api.tiktokv.com/view/product/1729606944439897053\n",
      "1: https://oec-api.tiktokv.com/view/product/1729651212604312541\n",
      "1: https://oec-api.tiktokv.com/view/product/1729651019080371165\n",
      "1: https://oec-api.tiktokv.com/view/product/1729640641502743517\n",
      "1: https://oec-api.tiktokv.com/view/product/1729651656980859869\n",
      "1: https://oec-api.tiktokv.com/view/product/1729652334448905181\n",
      "1: https://oec-api.tiktokv.com/view/product/1729651650935819229\n",
      "1: https://oec-api.tiktokv.com/view/product/1729652352965512157\n",
      "1: https://oec-api.tiktokv.com/view/product/1729651204056320989\n",
      "1: https://oec-api.tiktokv.com/view/product/1729651238576098269\n",
      "1: https://oec-api.tiktokv.com/view/product/17296518630084146851: https://oec-api.tiktokv.com/view/product/1729651851473357789\n",
      "\n",
      "1: https://oec-api.tiktokv.com/view/product/1729652366910786525\n",
      "1: https://oec-api.tiktokv.com/view/product/1729652358494587869\n",
      "1: https://oec-api.tiktokv.com/view/product/1729654958393428957\n",
      "1: https://oec-api.tiktokv.com/view/product/1729654954614295517\n",
      "1: https://oec-api.tiktokv.com/view/product/1729651676151516125\n",
      "1: https://oec-api.tiktokv.com/view/product/1729652370994990045\n",
      "1: https://oec-api.tiktokv.com/view/product/1729651862815083485\n",
      "1: https://oec-api.tiktokv.com/view/product/1729652384317606877\n",
      "1: https://oec-api.tiktokv.com/view/product/1729655751811238877\n",
      "1: https://oec-api.tiktokv.com/view/product/1729656551694830557\n",
      "1: https://oec-api.tiktokv.com/view/product/1729664739616459741\n",
      "1: https://oec-api.tiktokv.com/view/product/1729664718308936669\n",
      "1: https://oec-api.tiktokv.com/view/product/1729664744538541021\n",
      "1: https://oec-api.tiktokv.com/view/product/1729655692674763741\n",
      "1: https://oec-api.tiktokv.com/view/product/1729655090747247581\n",
      "1: https://oec-api.tiktokv.com/view/product/1729669566290365405\n",
      "1: https://oec-api.tiktokv.com/view/product/1729670064714451933\n",
      "1: https://oec-api.tiktokv.com/view/product/1729664711043156957\n",
      "1: https://oec-api.tiktokv.com/view/product/17296556888046007971: https://oec-api.tiktokv.com/view/product/1729662256450014173\n",
      "\n",
      "1: https://oec-api.tiktokv.com/view/product/1729655738373802973\n",
      "1: https://oec-api.tiktokv.com/view/product/1729655735442770909\n",
      "1: https://oec-api.tiktokv.com/view/product/1729679885311642589\n",
      "1: https://oec-api.tiktokv.com/view/product/1729656557905611741\n",
      "1: https://oec-api.tiktokv.com/view/product/1729662230486289373\n",
      "1: https://oec-api.tiktokv.com/view/product/1729680862038232029\n",
      "1: https://oec-api.tiktokv.com/view/product/1729680912532999133\n",
      "1: https://oec-api.tiktokv.com/view/product/1729680071138577373\n",
      "1: https://oec-api.tiktokv.com/view/product/1729680900283206621\n",
      "1: https://oec-api.tiktokv.com/view/product/1729680070248270813\n",
      "1: https://oec-api.tiktokv.com/view/product/1729680876379081693\n",
      "1: https://oec-api.tiktokv.com/view/product/1729681941929757661\n",
      "1: https://oec-api.tiktokv.com/view/product/1729679946110372829\n",
      "1: https://oec-api.tiktokv.com/view/product/1729679819777346525\n",
      "1: https://oec-api.tiktokv.com/view/product/1729679951332084701\n",
      "1: https://oec-api.tiktokv.com/view/product/1729683574522612701\n",
      "1: https://oec-api.tiktokv.com/view/product/1729683725759122397\n",
      "1: https://oec-api.tiktokv.com/view/product/1729694164930759645\n",
      "1: https://oec-api.tiktokv.com/view/product/17296827528137635491: https://oec-api.tiktokv.com/view/product/1729683771287243741\n",
      "\n",
      "1: https://oec-api.tiktokv.com/view/product/1729681905640573917\n",
      "1: https://oec-api.tiktokv.com/view/product/1729683745918520285\n",
      "1: https://oec-api.tiktokv.com/view/product/17296947554354165411: https://oec-api.tiktokv.com/view/product/1729683731610962909\n",
      "\n",
      "1: https://oec-api.tiktokv.com/view/product/1729694855954992093\n",
      "1: https://oec-api.tiktokv.com/view/product/1729681869064276957\n",
      "1: https://oec-api.tiktokv.com/view/product/1729681849227578333\n"
     ]
    }
   ],
   "source": [
    "product_infos = request_tiktok(links)"
   ]
  },
  {
   "cell_type": "code",
   "execution_count": 62,
   "metadata": {},
   "outputs": [
    {
     "data": {
      "text/plain": [
       "(86, 86)"
      ]
     },
     "execution_count": 62,
     "metadata": {},
     "output_type": "execute_result"
    }
   ],
   "source": [
    "len(product_infos), len(links)"
   ]
  },
  {
   "cell_type": "code",
   "execution_count": 64,
   "metadata": {},
   "outputs": [
    {
     "name": "stdout",
     "output_type": "stream",
     "text": [
      "1729443992011574237\n",
      "1729444867137375197\n",
      "1729445344721603549\n",
      "17294459962111784611729446330084068317\n",
      "1729446700188535773\n",
      "\n",
      "1729446728967359453\n",
      "1729446754308557789\n",
      "1729447195035929565\n",
      "1729447205246766045\n",
      "1729447485106326493\n",
      "1729447489862011869\n",
      "1729447522836974557\n",
      "1729447609082743773\n",
      "17294476129494333091729447615382588381\n",
      "1729447618324564957\n",
      "1729447619223522269\n",
      "1729447619682864093\n",
      "1729447621629545437\n",
      "\n",
      "17294476288237598371729606944439897053\n",
      "1729610111159733213\n",
      "1729612334436355037\n",
      "1729633502355557341\n",
      "1729640641502743517\n",
      "1729651019080371165\n",
      "\n",
      "1729651063887465437\n",
      "1729651081008024541\n",
      "1729651097827249117\n",
      "1729651204056320989\n",
      "1729651212604312541\n",
      "1729651238576098269\n",
      "1729651650935819229\n",
      "17296516569808598691729651676151516125\n",
      "1729651851473357789\n",
      "1729651862815083485\n",
      "\n",
      "1729651863008414685\n",
      "1729652334448905181\n",
      "1729652352965512157\n",
      "1729652358494587869\n",
      "1729652366910786525\n",
      "1729652370994990045\n",
      "1729652384317606877\n",
      "1729654954614295517\n",
      "1729654958393428957\n",
      "1729655090747247581\n",
      "1729655688804600797\n",
      "1729655692674763741\n",
      "1729655735442770909\n",
      "1729655738373802973\n",
      "17296557518112388771729656551694830557\n",
      "1729656557905611741\n",
      "1729662230486289373\n",
      "1729662256450014173\n",
      "1729664711043156957\n",
      "1729664718308936669\n",
      "\n",
      "1729664739616459741\n",
      "1729664744538541021\n",
      "1729669566290365405\n",
      "1729670064714451933\n",
      "1729679819777346525\n",
      "1729679885311642589\n",
      "1729679946110372829\n",
      "1729679951332084701\n",
      "17296800702482708131729680071138577373\n",
      "1729680862038232029\n",
      "1729680876379081693\n",
      "1729680900283206621\n",
      "1729680912532999133\n",
      "1729681849227578333\n",
      "1729681869064276957\n",
      "\n",
      "1729681905640573917\n",
      "1729681941929757661\n",
      "1729682752813763549\n",
      "1729683574522612701\n",
      "17296837257591223971729683731610962909\n",
      "1729683745918520285\n",
      "1729683771287243741\n",
      "1729694164930759645\n",
      "1729694755435416541\n",
      "1729694855954992093\n",
      "\n"
     ]
    },
    {
     "data": {
      "text/plain": [
       "[]"
      ]
     },
     "execution_count": 64,
     "metadata": {},
     "output_type": "execute_result"
    }
   ],
   "source": [
    "results = []\n",
    "transform(product_infos, results)"
   ]
  },
  {
   "cell_type": "code",
   "execution_count": 65,
   "metadata": {},
   "outputs": [],
   "source": [
    "brand = \"sweetladymart\""
   ]
  },
  {
   "cell_type": "code",
   "execution_count": 66,
   "metadata": {},
   "outputs": [
    {
     "data": {
      "text/plain": [
       "(86, 14)"
      ]
     },
     "execution_count": 66,
     "metadata": {},
     "output_type": "execute_result"
    }
   ],
   "source": [
    "df = pd.DataFrame(results)\n",
    "df['type'] = 'Sp lẻ'\n",
    "colums = ['product_id','name','link','type','min_price','max_price','sold_count','image_1','image_2','image_3','image_4','image_5','min_original_price','max_original_price','product_code']\n",
    "df.shape"
   ]
  },
  {
   "cell_type": "code",
   "execution_count": 67,
   "metadata": {},
   "outputs": [],
   "source": [
    "import re\n",
    "\n",
    "PATTERN = r'\\b\\d{3,}\\b'\n",
    "PATTERN = r\"[A-Z]\\d+|\\sQ\\d+|\\sC\\d+|\\sQ\\d+|\\s\\d{3,}\"\n",
    "PATTERN = r\"\\b[\\w+]+\\d+\"\n",
    "\n",
    "df['name'] = df['name'].apply(lambda x: x.replace('_', ' '))\n",
    "df['product_code'] = df['name'].apply(lambda x: re.findall(PATTERN, x)[0] if len(re.findall(PATTERN, x)) > 0 else None)\n",
    "df['product_code'] = df['product_code'].apply(lambda x: x.upper() if x else None)\n",
    "# df['product_code'] = df['name'].apply(lambda x: x.split(' ')[-1])\n"
   ]
  },
  {
   "cell_type": "code",
   "execution_count": 68,
   "metadata": {},
   "outputs": [],
   "source": [
    "df.to_csv(f\"{brand}/tiktok.csv\", index=False, columns=colums)\n"
   ]
  },
  {
   "cell_type": "code",
   "execution_count": 69,
   "metadata": {},
   "outputs": [
    {
     "data": {
      "text/plain": [
       "(29, 15)"
      ]
     },
     "execution_count": 69,
     "metadata": {},
     "output_type": "execute_result"
    }
   ],
   "source": [
    "# count product_code not null\n",
    "df[df['product_code'].notnull()].shape"
   ]
  },
  {
   "cell_type": "markdown",
   "metadata": {},
   "source": [
    "# Shopee"
   ]
  },
  {
   "cell_type": "code",
   "execution_count": 70,
   "metadata": {},
   "outputs": [],
   "source": [
    "from pathlib import Path"
   ]
  },
  {
   "cell_type": "code",
   "execution_count": 71,
   "metadata": {},
   "outputs": [],
   "source": [
    "all_items = []"
   ]
  },
  {
   "cell_type": "code",
   "execution_count": 72,
   "metadata": {},
   "outputs": [],
   "source": [
    "with open(f\"{brand}/all.json\", \"r\", encoding=\"utf8\") as f:\n",
    "    all_cralwed = json.load(f)\n",
    "    for crawled in all_cralwed:\n",
    "        if data:=crawled.get('data'):\n",
    "            all_items += crawled['data']['items']\n",
    "        else:\n",
    "            all_items += crawled['items']"
   ]
  },
  {
   "cell_type": "code",
   "execution_count": 73,
   "metadata": {},
   "outputs": [],
   "source": [
    "results = []"
   ]
  },
  {
   "cell_type": "code",
   "execution_count": 74,
   "metadata": {},
   "outputs": [],
   "source": [
    "\n",
    "\n",
    "def transform_product(item):\n",
    "    try:\n",
    "        if \"item_basic\" in item:\n",
    "            item = item['item_basic']\n",
    "        product_id = item['itemid']\n",
    "        shop_id = item['shopid']\n",
    "        name = item['name']\n",
    "        link = transform_link(name,shop_id,product_id)\n",
    "        max_price = item['price_max'] /100000\n",
    "        min_price = item['price_min'] / 100000 if item['price_min'] and item['price_min'] !=item['price_max'] else None\n",
    "        sold_count = int(round(item['historical_sold']/100) * 100) if item['historical_sold'] >=1000 else item['historical_sold']\n",
    "        max_original_price = item['price_max_before_discount'] / 100000 if item['price_max_before_discount'] > 0 else None\n",
    "        min_original_price = item['price_min_before_discount'] / 100000 if item['price_min_before_discount'] >0 and item['price_min_before_discount'] != item['price_max_before_discount']  else None\n",
    "        images = [None]*5\n",
    "        for i,image in enumerate(item[\"images\"][:5]):\n",
    "            images[i] = f'=image(\"https://down-vn.img.susercontent.com/file/{image}\")'\n",
    "            \n",
    "        product_transformed = {\n",
    "            \"product_id\": product_id,\n",
    "            \"name\": name,\n",
    "            \"link\": link,\n",
    "            \"type\": \"Sp lẻ\",\n",
    "            \"min_price\": min_price,\n",
    "            \"max_price\": max_price,\n",
    "            \"sold_count\": sold_count,\n",
    "            \"min_original_price\": min_original_price,\n",
    "            \"max_original_price\": max_original_price,\n",
    "        }\n",
    "        \n",
    "        for i in range(5):\n",
    "            product_transformed[f\"image_{i+1}\"] = images[i]\n",
    "        return product_transformed\n",
    "    except Exception as e:\n",
    "        print(e)\n",
    "        print(json.dumps(item, indent=4))\n",
    "    "
   ]
  },
  {
   "cell_type": "code",
   "execution_count": 75,
   "metadata": {},
   "outputs": [
    {
     "data": {
      "text/plain": [
       "347"
      ]
     },
     "execution_count": 75,
     "metadata": {},
     "output_type": "execute_result"
    }
   ],
   "source": [
    "len(all_items)"
   ]
  },
  {
   "cell_type": "code",
   "execution_count": 76,
   "metadata": {},
   "outputs": [],
   "source": [
    "transformed_products = []\n",
    "for item in all_items:\n",
    "    transformed_products.append(transform_product(item))"
   ]
  },
  {
   "cell_type": "code",
   "execution_count": 77,
   "metadata": {},
   "outputs": [
    {
     "data": {
      "text/plain": [
       "347"
      ]
     },
     "execution_count": 77,
     "metadata": {},
     "output_type": "execute_result"
    }
   ],
   "source": [
    "len(transformed_products)"
   ]
  },
  {
   "cell_type": "code",
   "execution_count": 78,
   "metadata": {},
   "outputs": [],
   "source": [
    "# PATTERN = r\"\\b[A-Z]\\d+|\\sQ\\d+|\\sC\\d+|\\sQ\\d+|\\s\\d{3,}\\b\"\n"
   ]
  },
  {
   "cell_type": "code",
   "execution_count": 79,
   "metadata": {},
   "outputs": [
    {
     "name": "stdout",
     "output_type": "stream",
     "text": [
      "(347, 15)\n"
     ]
    }
   ],
   "source": [
    "df = pd.DataFrame(transformed_products)\n",
    "columns = [\"product_id\",\"name\",\"link\",\"type\",\"min_price\",\"max_price\",\"sold_count\",\"image_1\",\"image_2\",\"image_3\",\"image_4\",\"image_5\",\"min_original_price\",\"max_original_price\",\"product_code\"]\n",
    "\n",
    "df['type'] = 'Sp lẻ'\n",
    "df['name'] = df['name'].apply(lambda x: x.replace('_', ' '))\n",
    "df['product_code'] = df['name'].apply(lambda x: re.findall(PATTERN, x)[-1] if len(re.findall(PATTERN, x)) > 0 else None)\n",
    "df['product_code'] = df['product_code'].apply(lambda x: x.upper() if x else None)\n",
    "print(df.shape)\n",
    "df.to_csv(f\"{brand}/shopee.csv\", index=False, columns=columns)"
   ]
  },
  {
   "cell_type": "code",
   "execution_count": 80,
   "metadata": {},
   "outputs": [],
   "source": [
    "# df['product_code'] = df['name'].apply(lambda x: x.split(' ')[-1])\n",
    "df['product_code'] = df['name'].apply(lambda x: re.findall(PATTERN, x)[0] if len(re.findall(PATTERN, x)) > 0 else None)"
   ]
  },
  {
   "cell_type": "code",
   "execution_count": 81,
   "metadata": {},
   "outputs": [
    {
     "data": {
      "text/plain": [
       "(347, 15)"
      ]
     },
     "execution_count": 81,
     "metadata": {},
     "output_type": "execute_result"
    }
   ],
   "source": [
    "df.shape"
   ]
  },
  {
   "cell_type": "code",
   "execution_count": null,
   "metadata": {},
   "outputs": [],
   "source": []
  },
  {
   "cell_type": "code",
   "execution_count": null,
   "metadata": {},
   "outputs": [],
   "source": []
  }
 ],
 "metadata": {
  "kernelspec": {
   "display_name": ".venv",
   "language": "python",
   "name": "python3"
  },
  "language_info": {
   "codemirror_mode": {
    "name": "ipython",
    "version": 3
   },
   "file_extension": ".py",
   "mimetype": "text/x-python",
   "name": "python",
   "nbconvert_exporter": "python",
   "pygments_lexer": "ipython3",
   "version": "3.10.2"
  },
  "orig_nbformat": 4
 },
 "nbformat": 4,
 "nbformat_minor": 2
}
