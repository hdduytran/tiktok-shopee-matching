{
 "cells": [
  {
   "cell_type": "code",
   "execution_count": 5,
   "metadata": {},
   "outputs": [],
   "source": [
    "from Parallelizer import make_parallel\n",
    "from common import  Common\n",
    "import re\n",
    "import pandas as pd\n",
    "import time\n",
    "from urllib.parse import unquote\n",
    "from utils import *\n",
    "import json\n",
    "from math import ceil\n",
    "import requests\n",
    "from bs4 import BeautifulSoup\n",
    "from time import sleep\n",
    "\n",
    "\n",
    "count = 0\n",
    "\n",
    "def request_tiktok(url):\n",
    "    payload = {}\n",
    "    headers = {\n",
    "        'authority': 'oec-api.tiktokv.com',\n",
    "        'accept': 'text/html,application/xhtml+xml,application/xml;q=0.9,image/webp,image/apng,*/*;q=0.8,application/signed-exchange;v=b3;q=0.7',\n",
    "        'accept-language': 'en-GB,en;q=0.9,en-US;q=0.8',\n",
    "        'cache-control': 'max-age=0',\n",
    "        'sec-ch-ua': '\"Microsoft Edge\";v=\"117\", \"Not;A=Brand\";v=\"8\", \"Chromium\";v=\"117\"',\n",
    "        'sec-ch-ua-mobile': '?0',\n",
    "        'sec-ch-ua-platform': '\"Windows\"',\n",
    "        'sec-fetch-dest': 'document',\n",
    "        'sec-fetch-mode': 'navigate',\n",
    "        'sec-fetch-site': 'none',\n",
    "        'sec-fetch-user': '?1',\n",
    "        'upgrade-insecure-requests': '1',\n",
    "        'user-agent': 'Mozilla/5.0 (Windows NT 10.0; Win64; x64) AppleWebKit/537.36 (KHTML, like Gecko) Chrome/117.0.0.0 Safari/537.36 Edg/117.0.2045.47'\n",
    "    }\n",
    "    try_time = 0\n",
    "    json_obj = None\n",
    "    while not json_obj:\n",
    "        \n",
    "        # url = f\"https://oec-api.tiktokv.com/view/product/{product_id}\"\n",
    "        response = requests.request(\"GET\", url, headers=headers, data=payload)\n",
    "        try_time += 1\n",
    "        print(f\"{try_time}: {url}\")\n",
    "        try:\n",
    "            soup = BeautifulSoup(response.text, 'html.parser')\n",
    "\n",
    "            # get content of script id = RENDER_DATA\n",
    "            script = soup.find('script', id='__UNIVERSAL_DATA_FOR_REHYDRATION__')\n",
    "            # get content of script\n",
    "            script_content = script.contents[0]\n",
    "            # get data from script\n",
    "            # print(response.text)\n",
    "            json_obj = json.loads(unquote(script_content))\n",
    "            # print(json_obj)\n",
    "        except Exception as e:\n",
    "            print(e)\n",
    "            json_obj = None\n",
    "            print(f\"fail: {url} {response.text}\")\n",
    "            sleep(2)\n",
    "    return json_obj"
   ]
  },
  {
   "cell_type": "code",
   "execution_count": 6,
   "metadata": {},
   "outputs": [
    {
     "name": "stdout",
     "output_type": "stream",
     "text": [
      "1: https://www.tiktok.com/@laamanh2\n",
      "1: https://www.tiktok.com/@laamanh2\n"
     ]
    }
   ],
   "source": [
    "links = input(\"Enter links: \").split(\" \")\n",
    "results = []\n",
    "path = [\"__DEFAULT_SCOPE__\",\"webapp.user-detail\",\"userInfo\",\"stats\",\"followerCount\"]\n",
    "for link in links:\n",
    "    res = request_tiktok(link)\n",
    "    follower = Common.get_dict_data_by_path(res, path)\n",
    "    results.append({\"link\": link, \"follower\": follower})\n",
    "    \n",
    "df = pd.DataFrame(results)\n",
    "df.to_csv(\"follower.csv\", index=False)\n"
   ]
  },
  {
   "cell_type": "code",
   "execution_count": null,
   "metadata": {},
   "outputs": [],
   "source": []
  }
 ],
 "metadata": {
  "kernelspec": {
   "display_name": ".venv",
   "language": "python",
   "name": "python3"
  },
  "language_info": {
   "codemirror_mode": {
    "name": "ipython",
    "version": 3
   },
   "file_extension": ".py",
   "mimetype": "text/x-python",
   "name": "python",
   "nbconvert_exporter": "python",
   "pygments_lexer": "ipython3",
   "version": "3.10.2"
  },
  "orig_nbformat": 4
 },
 "nbformat": 4,
 "nbformat_minor": 2
}
